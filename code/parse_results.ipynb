{
 "cells": [
  {
   "cell_type": "code",
   "execution_count": 146,
   "metadata": {},
   "outputs": [],
   "source": [
    "from aiida import load_profile \n",
    "load_profile()\n",
    "import os\n",
    "from glob import glob\n",
    "from pathlib import Path\n",
    "import click\n",
    "import pandas as pd\n",
    "import pickle\n",
    "from ase.io import read, write\n",
    "from aiida.engine import WorkChain\n",
    "from aiida.orm import Dict\n",
    "from aiida.orm.querybuilder import QueryBuilder\n",
    "from aiida.plugins import DataFactory, CalculationFactory\n",
    "Cp2kCalculation = CalculationFactory('cp2k')\n",
    "from water_isotherm_workchains.utils.utils import slugify\n",
    "from aiida.orm import load_node\n",
    "CifData = DataFactory('cif')\n",
    "StructureData = DataFactory('structure')\n",
    "from datetime import datetime, timedelta"
   ]
  },
  {
   "cell_type": "markdown",
   "metadata": {},
   "source": [
    "## Scalings"
   ]
  },
  {
   "cell_type": "code",
   "execution_count": 247,
   "metadata": {},
   "outputs": [],
   "source": [
    "def query_structure(structure_label='KISXIU', nodes=1):\n",
    "    qb = QueryBuilder()\n",
    "    qb.append(\n",
    "        StructureData, tag='inp_struct', filters={'label': structure_label}, project=['uuid']\n",
    "    )\n",
    "    qb.append(\n",
    "        WorkChain,\n",
    "        filters={'label': 'scaling_test_'+str(nodes)},\n",
    "        tag='wc',\n",
    "        with_incoming='inp_struct',\n",
    "        project=['uuid'],\n",
    "    )\n",
    "    qb.append(\n",
    "        WorkChain,\n",
    "        project=['uuid'],\n",
    "    )\n",
    "    \n",
    "    qb.append(\n",
    "        Cp2kCalculation,\n",
    "        project=['uuid'],\n",
    "    )\n",
    "    return qb.all()\n"
   ]
  },
  {
   "cell_type": "code",
   "execution_count": 248,
   "metadata": {},
   "outputs": [],
   "source": [
    "import pandas as pd \n",
    "import matplotlib.pyplot as plt\n",
    "%matplotlib inline\n",
    "\n",
    "parsed_results = []\n",
    "\n",
    "for name in ['KISXIU']:\n",
    "    for nodes in [1, 2, 4, 8, 12, 16, 32]:\n",
    "        res = query_structure(name, nodes)\n",
    "        for r in res:\n",
    "            cp2kcalc = load_node(r[-1])\n",
    "            stdout = cp2kcalc.get_scheduler_stdout().split('\\n')\n",
    "            t = datetime.strptime(stdout[5].split()[-2], '%H:%M:%S').time()\n",
    "            parsed_results.append(\n",
    "                {\n",
    "                    'name': name, \n",
    "                    'nodes': nodes,\n",
    "                    'time': timedelta(hours=t.hour, minutes=t.minute, seconds=t.second).total_seconds()\n",
    "                }\n",
    "            )"
   ]
  },
  {
   "cell_type": "code",
   "execution_count": 249,
   "metadata": {},
   "outputs": [],
   "source": [
    "df = pd.DataFrame(parsed_results)"
   ]
  },
  {
   "cell_type": "code",
   "execution_count": 250,
   "metadata": {},
   "outputs": [],
   "source": [
    "df['speedup'] = df[df['nodes']==1]['time'].values[0] / df['time'] \n",
    "df['ratio_from_ideal'] = df['speedup'] / df['nodes']"
   ]
  },
  {
   "cell_type": "code",
   "execution_count": 251,
   "metadata": {},
   "outputs": [],
   "source": [
    "import seaborn as sns"
   ]
  },
  {
   "cell_type": "code",
   "execution_count": 252,
   "metadata": {},
   "outputs": [
    {
     "data": {
      "text/plain": [
       "Text(0, 0.5, 'speedup')"
      ]
     },
     "execution_count": 252,
     "metadata": {},
     "output_type": "execute_result"
    },
    {
     "data": {
      "image/png": "[encoded data removed]",
      "text/plain": [
       "<Figure size 432x288 with 1 Axes>"
      ]
     },
     "metadata": {
      "needs_background": "light"
     },
     "output_type": "display_data"
    }
   ],
   "source": [
    "plt.plot(df['nodes'], df['speedup'], label='one SCF cycle MOF', marker='o')\n",
    "plt.plot([0,32], [0,32], '--k', label='ideal')\n",
    "plt.legend()\n",
    "plt.xlabel('number nodes')\n",
    "plt.ylabel('speedup')"
   ]
  },
  {
   "cell_type": "code",
   "execution_count": 253,
   "metadata": {},
   "outputs": [
    {
     "data": {
      "text/html": [
       "<div>\n",
       "<style scoped>\n",
       "    .dataframe tbody tr th:only-of-type {\n",
       "        vertical-align: middle;\n",
       "    }\n",
       "\n",
       "    .dataframe tbody tr th {\n",
       "        vertical-align: top;\n",
       "    }\n",
       "\n",
       "    .dataframe thead th {\n",
       "        text-align: right;\n",
       "    }\n",
       "</style>\n",
       "<table border=\"1\" class=\"dataframe\">\n",
       "  <thead>\n",
       "    <tr style=\"text-align: right;\">\n",
       "      <th></th>\n",
       "      <th>name</th>\n",
       "      <th>nodes</th>\n",
       "      <th>time</th>\n",
       "      <th>speedup</th>\n",
       "      <th>ratio_from_ideal</th>\n",
       "    </tr>\n",
       "  </thead>\n",
       "  <tbody>\n",
       "    <tr>\n",
       "      <th>0</th>\n",
       "      <td>KISXIU</td>\n",
       "      <td>1</td>\n",
       "      <td>1862.0</td>\n",
       "      <td>1.000000</td>\n",
       "      <td>1.000000</td>\n",
       "    </tr>\n",
       "    <tr>\n",
       "      <th>1</th>\n",
       "      <td>KISXIU</td>\n",
       "      <td>2</td>\n",
       "      <td>1018.0</td>\n",
       "      <td>1.829077</td>\n",
       "      <td>0.914538</td>\n",
       "    </tr>\n",
       "    <tr>\n",
       "      <th>2</th>\n",
       "      <td>KISXIU</td>\n",
       "      <td>4</td>\n",
       "      <td>710.0</td>\n",
       "      <td>2.622535</td>\n",
       "      <td>0.655634</td>\n",
       "    </tr>\n",
       "    <tr>\n",
       "      <th>3</th>\n",
       "      <td>KISXIU</td>\n",
       "      <td>8</td>\n",
       "      <td>415.0</td>\n",
       "      <td>4.486747</td>\n",
       "      <td>0.560843</td>\n",
       "    </tr>\n",
       "    <tr>\n",
       "      <th>4</th>\n",
       "      <td>KISXIU</td>\n",
       "      <td>12</td>\n",
       "      <td>352.0</td>\n",
       "      <td>5.289773</td>\n",
       "      <td>0.440814</td>\n",
       "    </tr>\n",
       "    <tr>\n",
       "      <th>5</th>\n",
       "      <td>KISXIU</td>\n",
       "      <td>12</td>\n",
       "      <td>343.0</td>\n",
       "      <td>5.428571</td>\n",
       "      <td>0.452381</td>\n",
       "    </tr>\n",
       "    <tr>\n",
       "      <th>6</th>\n",
       "      <td>KISXIU</td>\n",
       "      <td>16</td>\n",
       "      <td>375.0</td>\n",
       "      <td>4.965333</td>\n",
       "      <td>0.310333</td>\n",
       "    </tr>\n",
       "    <tr>\n",
       "      <th>7</th>\n",
       "      <td>KISXIU</td>\n",
       "      <td>16</td>\n",
       "      <td>381.0</td>\n",
       "      <td>4.887139</td>\n",
       "      <td>0.305446</td>\n",
       "    </tr>\n",
       "    <tr>\n",
       "      <th>8</th>\n",
       "      <td>KISXIU</td>\n",
       "      <td>32</td>\n",
       "      <td>331.0</td>\n",
       "      <td>5.625378</td>\n",
       "      <td>0.175793</td>\n",
       "    </tr>\n",
       "  </tbody>\n",
       "</table>\n",
       "</div>"
      ],
      "text/plain": [
       "     name  nodes    time   speedup  ratio_from_ideal\n",
       "0  KISXIU      1  1862.0  1.000000          1.000000\n",
       "1  KISXIU      2  1018.0  1.829077          0.914538\n",
       "2  KISXIU      4   710.0  2.622535          0.655634\n",
       "3  KISXIU      8   415.0  4.486747          0.560843\n",
       "4  KISXIU     12   352.0  5.289773          0.440814\n",
       "5  KISXIU     12   343.0  5.428571          0.452381\n",
       "6  KISXIU     16   375.0  4.965333          0.310333\n",
       "7  KISXIU     16   381.0  4.887139          0.305446\n",
       "8  KISXIU     32   331.0  5.625378          0.175793"
      ]
     },
     "execution_count": 253,
     "metadata": {},
     "output_type": "execute_result"
    }
   ],
   "source": [
    "df"
   ]
  },
  {
   "cell_type": "code",
   "execution_count": null,
   "metadata": {},
   "outputs": [],
   "source": []
  }
 ],
 "metadata": {
  "kernelspec": {
   "display_name": "Python [conda env:aiida1] *",
   "language": "python",
   "name": "conda-env-aiida1-py"
  },
  "language_info": {
   "codemirror_mode": {
    "name": "ipython",
    "version": 3
   },
   "file_extension": ".py",
   "mimetype": "text/x-python",
   "name": "python",
   "nbconvert_exporter": "python",
   "pygments_lexer": "ipython3",
   "version": "3.6.9"
  }
 },
 "nbformat": 4,
 "nbformat_minor": 4
}
