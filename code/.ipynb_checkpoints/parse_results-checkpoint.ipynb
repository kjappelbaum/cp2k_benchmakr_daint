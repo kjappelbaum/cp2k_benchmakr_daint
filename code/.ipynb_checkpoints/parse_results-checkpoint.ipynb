{
 "cells": [
  {
   "cell_type": "code",
   "execution_count": 146,
   "metadata": {},
   "outputs": [],
   "source": [
    "from aiida import load_profile \n",
    "load_profile()\n",
    "import os\n",
    "from glob import glob\n",
    "from pathlib import Path\n",
    "import click\n",
    "import pandas as pd\n",
    "import pickle\n",
    "from ase.io import read, write\n",
    "from aiida.engine import WorkChain\n",
    "from aiida.orm import Dict\n",
    "from aiida.orm.querybuilder import QueryBuilder\n",
    "from aiida.plugins import DataFactory, CalculationFactory\n",
    "Cp2kCalculation = CalculationFactory('cp2k')\n",
    "from water_isotherm_workchains.utils.utils import slugify\n",
    "from aiida.orm import load_node\n",
    "CifData = DataFactory('cif')\n",
    "StructureData = DataFactory('structure')\n",
    "from datetime import datetime, timedelta"
   ]
  },
  {
   "cell_type": "code",
   "execution_count": 107,
   "metadata": {},
   "outputs": [],
   "source": [
    "def query_structure(structure_label='KISXIU', nodes=1):\n",
    "    qb = QueryBuilder()\n",
    "    qb.append(\n",
    "        StructureData, tag='inp_struct', filters={'label': structure_label}, project=['uuid']\n",
    "    )\n",
    "    qb.append(\n",
    "        WorkChain,\n",
    "        filters={'label': 'scaling_test_'+str(nodes)},\n",
    "        tag='wc',\n",
    "        with_incoming='inp_struct',\n",
    "        project=['uuid'],\n",
    "    )\n",
    "    qb.append(\n",
    "        WorkChain,\n",
    "        project=['uuid'],\n",
    "    )\n",
    "    \n",
    "    qb.append(\n",
    "        Cp2kCalculation,\n",
    "        project=['uuid'],\n",
    "    )\n",
    "    return qb.all()\n"
   ]
  },
  {
   "cell_type": "code",
   "execution_count": 108,
   "metadata": {},
   "outputs": [
    {
     "data": {
      "text/plain": [
       "[['6946b2aa-7dd1-4487-a4c0-c45d97557225',\n",
       "  'a76bebd7-d18f-41dc-ac2a-df983af040c6',\n",
       "  '01f34f14-3129-438d-8d7e-7bd2ffd69a6c',\n",
       "  '258b1319-c410-4994-81e0-85e2f794990e']]"
      ]
     },
     "execution_count": 108,
     "metadata": {},
     "output_type": "execute_result"
    }
   ],
   "source": [
    "query_structure()"
   ]
  },
  {
   "cell_type": "code",
   "execution_count": 111,
   "metadata": {},
   "outputs": [],
   "source": [
    "wcn = load_node(\"258b1319-c410-4994-81e0-85e2f794990e\")"
   ]
  },
  {
   "cell_type": "code",
   "execution_count": 119,
   "metadata": {},
   "outputs": [],
   "source": [
    "stdout = wcn.get_scheduler_stdout().split('\\n')"
   ]
  },
  {
   "cell_type": "code",
   "execution_count": 121,
   "metadata": {},
   "outputs": [
    {
     "name": "stdout",
     "output_type": "stream",
     "text": [
      "0  \n",
      "1 Batch Job Summary Report for Job \"aiida-131694\" (16956591) on daint\n",
      "2 -----------------------------------------------------------------------------------------------------\n",
      "3              Submit            Eligible               Start                 End    Elapsed  Timelimit \n",
      "4 ------------------- ------------------- ------------------- ------------------- ---------- ---------- \n",
      "5 2019-09-19T12:52:06 2019-09-19T12:52:06 2019-09-19T12:52:16 2019-09-19T13:23:18   00:31:02   01:00:00 \n",
      "6 -----------------------------------------------------------------------------------------------------\n",
      "7 Username    Account     Partition   NNodes   Energy\n",
      "8 ----------  ----------  ----------  ------  --------------\n",
      "9 kjablonk    s946        normal           1  369.41K joules\n",
      "10 ----------------------------------------------------------\n",
      "11 gpusecs  maxgpusecs        maxmem            summem\n",
      "12 -------  ----------  ------------  ----------------\n",
      "13      90          90    2731540480        3036676096\n",
      "14 ----------------------------------------------------------\n",
      "15 Scratch File System        Files       Quota\n",
      "16 --------------------  ----------  ----------\n",
      "17 /scratch/snx3000             179     1000000\n",
      "18  \n",
      "19 \n"
     ]
    }
   ],
   "source": [
    "for i, l in enumerate(stdout):\n",
    "    print(i, l)"
   ]
  },
  {
   "cell_type": "code",
   "execution_count": 123,
   "metadata": {},
   "outputs": [
    {
     "data": {
      "text/plain": [
       "'00:31:02'"
      ]
     },
     "execution_count": 123,
     "metadata": {},
     "output_type": "execute_result"
    }
   ],
   "source": [
    "stdout[5].split()[-2]"
   ]
  },
  {
   "cell_type": "code",
   "execution_count": 128,
   "metadata": {},
   "outputs": [
    {
     "data": {
      "text/plain": [
       "datetime.datetime(1900, 1, 1, 0, 31, 2)"
      ]
     },
     "execution_count": 128,
     "metadata": {},
     "output_type": "execute_result"
    }
   ],
   "source": [
    "datetime.strptime(stdout[5].split()[-2], '%H:%M:%S')"
   ]
  },
  {
   "cell_type": "code",
   "execution_count": 157,
   "metadata": {},
   "outputs": [],
   "source": [
    "import pandas as pd \n",
    "import matplotlib.pyplot as plt\n",
    "%matplotlib inline\n",
    "\n",
    "parsed_results = []\n",
    "\n",
    "for name in ['KISXIU']:\n",
    "    for nodes in [1, 2, 4, 8, 12, 16, 32]:\n",
    "        res = query_structure(name, nodes)\n",
    "        cp2kcalc = load_node(res[-1][-1])\n",
    "        stdout = cp2kcalc.get_scheduler_stdout().split('\\n')\n",
    "        t = datetime.strptime(stdout[5].split()[-2], '%H:%M:%S').time()\n",
    "        parsed_results.append(\n",
    "            {\n",
    "                'name': name, \n",
    "                'nodes': nodes,\n",
    "                'time': timedelta(hours=t.hour, minutes=t.minute, seconds=t.second).total_seconds()\n",
    "            }\n",
    "        )"
   ]
  },
  {
   "cell_type": "code",
   "execution_count": 158,
   "metadata": {},
   "outputs": [],
   "source": [
    "df = pd.DataFrame(parsed_results)"
   ]
  },
  {
   "cell_type": "code",
   "execution_count": 184,
   "metadata": {},
   "outputs": [],
   "source": [
    "df['speedup'] = df[df['nodes']==1]['time'].values[0] / df['time'] \n",
    "df['ratio_from_ideal'] = df['speedup'] / df['nodes']"
   ]
  },
  {
   "cell_type": "code",
   "execution_count": 185,
   "metadata": {},
   "outputs": [],
   "source": [
    "import seaborn as sns"
   ]
  },
  {
   "cell_type": "code",
   "execution_count": 189,
   "metadata": {},
   "outputs": [
    {
     "data": {
      "text/plain": [
       "Text(0, 0.5, 'speedup')"
      ]
     },
     "execution_count": 189,
     "metadata": {},
     "output_type": "execute_result"
    },
    {
     "data": {
      "image/png": "[encoded data removed]",
      "text/plain": [
       "<Figure size 432x288 with 1 Axes>"
      ]
     },
     "metadata": {
      "needs_background": "light"
     },
     "output_type": "display_data"
    }
   ],
   "source": [
    "plt.plot(df['nodes'], df['speedup'], label='one SCF cycle MOF', marker='o')\n",
    "plt.plot([0,32], [0,32], '--k', label='ideal')\n",
    "plt.legend()\n",
    "plt.xlabel('number nodes')\n",
    "plt.ylabel('speedup')"
   ]
  },
  {
   "cell_type": "code",
   "execution_count": 187,
   "metadata": {},
   "outputs": [
    {
     "data": {
      "text/html": [
       "<div>\n",
       "<style scoped>\n",
       "    .dataframe tbody tr th:only-of-type {\n",
       "        vertical-align: middle;\n",
       "    }\n",
       "\n",
       "    .dataframe tbody tr th {\n",
       "        vertical-align: top;\n",
       "    }\n",
       "\n",
       "    .dataframe thead th {\n",
       "        text-align: right;\n",
       "    }\n",
       "</style>\n",
       "<table border=\"1\" class=\"dataframe\">\n",
       "  <thead>\n",
       "    <tr style=\"text-align: right;\">\n",
       "      <th></th>\n",
       "      <th>name</th>\n",
       "      <th>nodes</th>\n",
       "      <th>time</th>\n",
       "      <th>speedup</th>\n",
       "      <th>ratio_from_ideal</th>\n",
       "    </tr>\n",
       "  </thead>\n",
       "  <tbody>\n",
       "    <tr>\n",
       "      <th>0</th>\n",
       "      <td>KISXIU</td>\n",
       "      <td>1</td>\n",
       "      <td>1862.0</td>\n",
       "      <td>1.000000</td>\n",
       "      <td>1.000000</td>\n",
       "    </tr>\n",
       "    <tr>\n",
       "      <th>1</th>\n",
       "      <td>KISXIU</td>\n",
       "      <td>2</td>\n",
       "      <td>1018.0</td>\n",
       "      <td>1.829077</td>\n",
       "      <td>0.914538</td>\n",
       "    </tr>\n",
       "    <tr>\n",
       "      <th>2</th>\n",
       "      <td>KISXIU</td>\n",
       "      <td>4</td>\n",
       "      <td>710.0</td>\n",
       "      <td>2.622535</td>\n",
       "      <td>0.655634</td>\n",
       "    </tr>\n",
       "    <tr>\n",
       "      <th>3</th>\n",
       "      <td>KISXIU</td>\n",
       "      <td>8</td>\n",
       "      <td>415.0</td>\n",
       "      <td>4.486747</td>\n",
       "      <td>0.560843</td>\n",
       "    </tr>\n",
       "    <tr>\n",
       "      <th>4</th>\n",
       "      <td>KISXIU</td>\n",
       "      <td>16</td>\n",
       "      <td>381.0</td>\n",
       "      <td>4.887139</td>\n",
       "      <td>0.305446</td>\n",
       "    </tr>\n",
       "  </tbody>\n",
       "</table>\n",
       "</div>"
      ],
      "text/plain": [
       "     name  nodes    time   speedup  ratio_from_ideal\n",
       "0  KISXIU      1  1862.0  1.000000          1.000000\n",
       "1  KISXIU      2  1018.0  1.829077          0.914538\n",
       "2  KISXIU      4   710.0  2.622535          0.655634\n",
       "3  KISXIU      8   415.0  4.486747          0.560843\n",
       "4  KISXIU     16   381.0  4.887139          0.305446"
      ]
     },
     "execution_count": 187,
     "metadata": {},
     "output_type": "execute_result"
    }
   ],
   "source": [
    "df.head()"
   ]
  },
  {
   "cell_type": "code",
   "execution_count": 167,
   "metadata": {},
   "outputs": [
    {
     "data": {
      "text/plain": [
       "1862.0"
      ]
     },
     "execution_count": 167,
     "metadata": {},
     "output_type": "execute_result"
    }
   ],
   "source": []
  },
  {
   "cell_type": "code",
   "execution_count": null,
   "metadata": {},
   "outputs": [],
   "source": []
  }
 ],
 "metadata": {
  "kernelspec": {
   "display_name": "Python [conda env:aiida1] *",
   "language": "python",
   "name": "conda-env-aiida1-py"
  },
  "language_info": {
   "codemirror_mode": {
    "name": "ipython",
    "version": 3
   },
   "file_extension": ".py",
   "mimetype": "text/x-python",
   "name": "python",
   "nbconvert_exporter": "python",
   "pygments_lexer": "ipython3",
   "version": "3.6.9"
  }
 },
 "nbformat": 4,
 "nbformat_minor": 4
}
